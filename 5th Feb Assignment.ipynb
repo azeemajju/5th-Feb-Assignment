{
 "cells": [
  {
   "cell_type": "code",
   "execution_count": 17,
   "id": "de909eff",
   "metadata": {},
   "outputs": [],
   "source": [
    "# (Q1)\n",
    "\n",
    "\"\"\"class\"\"\"\n",
    "\n",
    "\"\"\"class is a blueprint or a template for creating a object.The user-defined objects or created using class keyword \"\"\"\n",
    "\n",
    "class details:\n",
    "    name =\"Ajju\"\n",
    "    age =28\n",
    "    occupation =\"Data scientist\"\n",
    "    \n",
    "    \n",
    "\"\"\"object\"\"\"\n",
    "\n",
    "\"\"\"object is the instance of the class used to access the propertise of the class\"\"\"\n",
    "\n",
    "obj1 =details()"
   ]
  },
  {
   "cell_type": "code",
   "execution_count": null,
   "id": "4fe50d7c",
   "metadata": {},
   "outputs": [],
   "source": [
    "##(Q2)\n",
    "\"\"\"These four pillars are Inheritance, Polymorphism, Encapsulation and Abstraction.\"\"\"\n"
   ]
  },
  {
   "cell_type": "code",
   "execution_count": 33,
   "id": "afa1132b",
   "metadata": {},
   "outputs": [
    {
     "name": "stdout",
     "output_type": "stream",
     "text": [
      "ajju\n",
      "20\n"
     ]
    }
   ],
   "source": [
    "##(Q3)\n",
    "\"\"\"__init__\" is a reseved method in python classes. \n",
    "It is called as a constructor in object oriented terminology. \n",
    "This method is called when an object is created from a class and it allows the class to initialize the attributes of the class.\"\"\"\n",
    "class Person:\n",
    "    def __init__(self, name, age):\n",
    "        self.name = name\n",
    "        self.age = age\n",
    "         \n",
    "\n",
    "a = Person(\"ajju\", 20)\n",
    "\n",
    "print(a.name)\n",
    "print(a.age)"
   ]
  },
  {
   "cell_type": "code",
   "execution_count": null,
   "id": "c87f6ac9",
   "metadata": {},
   "outputs": [],
   "source": [
    "# (Q4)\n",
    "\"\"\"The self variable is used to represent the instance of the class which is often used in object-oriented programming.\"\"\" \n"
   ]
  },
  {
   "cell_type": "code",
   "execution_count": 34,
   "id": "8e7656b3",
   "metadata": {},
   "outputs": [
    {
     "data": {
      "text/plain": [
       "'\\nImage result for What is inheritance? Give an example for each type of inheritance.\\nInheritance is a mechanism of acquiring the features and behaviors of a class by another class.'"
      ]
     },
     "execution_count": 34,
     "metadata": {},
     "output_type": "execute_result"
    }
   ],
   "source": [
    "#(Q5)\n",
    "\n",
    "\"\"\"\n",
    "Image result for What is inheritance? Give an example for each type of inheritance.\n",
    "Inheritance is a mechanism of acquiring the features and behaviors of a class by another class.\"\"\"\n",
    "\n",
    "''"
   ]
  },
  {
   "cell_type": "code",
   "execution_count": null,
   "id": "68379660",
   "metadata": {},
   "outputs": [],
   "source": []
  },
  {
   "cell_type": "code",
   "execution_count": null,
   "id": "b22e8416",
   "metadata": {},
   "outputs": [],
   "source": []
  },
  {
   "cell_type": "code",
   "execution_count": null,
   "id": "87df728d",
   "metadata": {},
   "outputs": [],
   "source": []
  },
  {
   "cell_type": "code",
   "execution_count": null,
   "id": "734a5b33",
   "metadata": {},
   "outputs": [],
   "source": []
  },
  {
   "cell_type": "code",
   "execution_count": null,
   "id": "f7869ba1",
   "metadata": {},
   "outputs": [],
   "source": []
  },
  {
   "cell_type": "code",
   "execution_count": null,
   "id": "1f550353",
   "metadata": {},
   "outputs": [],
   "source": []
  },
  {
   "cell_type": "code",
   "execution_count": null,
   "id": "91e2aad0",
   "metadata": {},
   "outputs": [],
   "source": []
  },
  {
   "cell_type": "code",
   "execution_count": null,
   "id": "299c7786",
   "metadata": {},
   "outputs": [],
   "source": []
  },
  {
   "cell_type": "code",
   "execution_count": null,
   "id": "c34f27d2",
   "metadata": {},
   "outputs": [],
   "source": []
  }
 ],
 "metadata": {
  "kernelspec": {
   "display_name": "Python 3 (ipykernel)",
   "language": "python",
   "name": "python3"
  },
  "language_info": {
   "codemirror_mode": {
    "name": "ipython",
    "version": 3
   },
   "file_extension": ".py",
   "mimetype": "text/x-python",
   "name": "python",
   "nbconvert_exporter": "python",
   "pygments_lexer": "ipython3",
   "version": "3.9.13"
  }
 },
 "nbformat": 4,
 "nbformat_minor": 5
}
